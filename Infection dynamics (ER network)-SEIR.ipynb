{
 "cells": [
  {
   "cell_type": "code",
   "execution_count": 1,
   "metadata": {},
   "outputs": [],
   "source": [
    "import igraph as ig\n",
    "import math\n",
    "import random as rd\n",
    "import numpy as np\n",
    "import matplotlib.pyplot as plt\n",
    "import datetime\n",
    "import matplotlib.dates as mdates\n",
    "from matplotlib.dates import DayLocator, HourLocator, DateFormatter, drange, date2num\n",
    "import numpy as np\n",
    "import random\n",
    "font = {'family': 'serif',\n",
    "        'color':  'black',\n",
    "        'weight': 'normal',\n",
    "        'size': 18,\n",
    "        }\n",
    "params = {'legend.fontsize': 16,\n",
    "          'legend.handlelength': 2.}\n",
    "plt.rcParams.update(params)"
   ]
  },
  {
   "cell_type": "code",
   "execution_count": 2,
   "metadata": {},
   "outputs": [],
   "source": [
    "import pandas as pd\n",
    "\n",
    "df = pd.read_excel ('Book2.xlsx') #place \"r\" before the path string to address special character, such as '\\'. Don't forget to put the file name at the end of the path + '.xlsx'\n",
    "# print (df)"
   ]
  },
  {
   "cell_type": "code",
   "execution_count": 3,
   "metadata": {},
   "outputs": [],
   "source": [
    "def double_smoothlog(time, bound1 , bound2, rate1 , rate2 , midpoint1 , midpoint2):\n",
    "    result = []\n",
    "    mini = 0\n",
    "    maxi = time\n",
    "    for x in range(time):\n",
    "        if (midpoint1 > maxi | midpoint2 > maxi | midpoint1 < mini | midpoint2 < mini | midpoint1 > midpoint2):\n",
    "            stop('midpoints not in range!')\n",
    "        t1 = 1 / (1 + math.exp(-rate1*(x - midpoint1)))\n",
    "        t2 = 1 / (1 + math.exp( rate2*(x - midpoint2)))\n",
    "        out = bound1 + (bound2-bound1) * ((t1 + t2) - 1)\n",
    "        result.append(out)\n",
    "    return(result)"
   ]
  },
  {
   "cell_type": "code",
   "execution_count": 4,
   "metadata": {},
   "outputs": [],
   "source": [
    "def simfxn(Time,popul):\n",
    "    bound1 = 0.028\n",
    "    bound2 = 0.01\n",
    "    rate1 = 0.09\n",
    "    rate2 = 0.04\n",
    "    midpoint1 = 50\n",
    "    midpoint2 = 126\n",
    "    beta = double_smoothlog(Time, bound1 , bound2, rate1 , rate2 , midpoint1 , midpoint2)\n",
    "    color_dict = {\"S\": \"blue\", \"I\": \"red\", \"R\": \"green\", \"V\":\"orange\"}\n",
    "    g=ig.Graph.Erdos_Renyi(popul, m=5*popul)\n",
    "    pop = g.vcount()\n",
    "    g.vs[\"state\"] = \"S\"\n",
    "    g.vs[\"duration\"] = 0\n",
    "    #randomly select % of the population to be vaccinated\n",
    "    init_vac_grp = random.sample(list(range(pop)), 7000)\n",
    "    g.vs[init_vac_grp][\"state\"] = \"V\"\n",
    "    g.vs[init_vac_grp][\"duration\"] = Time\n",
    "    #randomly select an infected node to start epidemic\n",
    "    i = rd.randint(0, pop-1)\n",
    "    g.vs[i][\"state\"] = \"E\"\n",
    "    \n",
    "    nb_S = [pop]\n",
    "    nb_E = [1]\n",
    "    nb_I = [0]\n",
    "    nb_R = [0]\n",
    "    nb_V = [len(init_vac_grp)]\n",
    "   \n",
    "    Time = Time \n",
    "    for time in range(Time): #no. of days     \n",
    "        for n in g.vs.select(state_eq = \"E\"): #iterates through each node in the network\n",
    "            g.vs[n.index][\"duration\"] += 1 #from day 0 to infect_len this node continues to infect\n",
    "            if g.vs[n.index][\"duration\"] in range(10,21):  #(7,21)\n",
    "                g.vs[n.index][\"state\"] = 'I'\n",
    "            else:\n",
    "                for nb in g.neighbors(n): #iterates through neighbours of that node\n",
    "                    if g.vs[nb][\"state\"] == \"S\": #if node is susceptible...\n",
    "                        s = rd.random() #random state\n",
    "                        if s <= beta[time]:\n",
    "                            g.vs[nb][\"state\"] = \"E\"         \n",
    "                   if g.vs[nb][\"state\"] == \"V\": #if node is susceptible...\n",
    "                        u = rd.random() #random state\n",
    "                        if u <= (1-0.5)*beta[time]:\n",
    "                            g.vs[nb][\"state\"] = \"E\"         \n",

    "        for m in g.vs.select(state_eq = \"I\"): #iterates through each node in the network\n",
    "            g.vs[m.index][\"duration\"] += 1 #from day 0 to infect_len this node continues to infect                                \n",
    "            if g.vs[m.index][\"duration\"] in range(21,Time):\n",
    "                g.vs[m.index][\"state\"] = 'R'\n",
    "                \n",
    "        nb_S.append(len(g.vs.select(state_eq = \"S\"))) #no. of susceptibles in population\n",
    "        nb_E.append(len(g.vs.select(state_eq = \"E\"))) #no. of recovereds in population\n",
    "        nb_I.append(len(g.vs.select(state_eq = \"I\"))) #no. of infecteds in population\n",
    "        nb_R.append(len(g.vs.select(state_eq = \"R\"))) #no. of recovereds in population\n",
    "        nb_V.append(len(g.vs.select(state_eq = \"V\"))) #no. of recovereds in population\n",
    "\n",
    "    return(nb_S,nb_E,nb_I,nb_R,nb_V)\n"
   ]
  },
  {
   "cell_type": "code",
   "execution_count": 5,
   "metadata": {},
   "outputs": [],
   "source": [
    "Time = 400\n",
    "popul = 10000\n",
    "simout=simfxn(Time,popul)"
   ]
  },
  {
   "cell_type": "code",
   "execution_count": 6,
   "metadata": {},
   "outputs": [],
   "source": [
    "datavector = []\n",
    "for i in range(20):          #repeat simulation 10 times\n",
    "    simu = simfxn(Time,popul)\n",
    "    datavector.append(simu)"
   ]
  },
  {
   "cell_type": "code",
   "execution_count": 7,
   "metadata": {
    "scrolled": true
   },
   "outputs": [
    {
     "data": {
      "image/png": "[encoded data removed]",
      "text/plain": [
       "<Figure size 864x360 with 1 Axes>"
      ]
     },
     "metadata": {
      "needs_background": "light"
     },
     "output_type": "display_data"
    }
   ],
   "source": [
    "plt.figure(figsize=(12, 5))\n",
    "\n",
    "# plt.plot([x/popul for x in simout[0]], label='S',color = '#1f77b4')\n",
    "plt.plot([x/popul for x in simout[1]], label='E',color = 'yellow')\n",
    "plt.plot([x/popul for x in simout[2]], label='I',color = '#d62728')\n",
    "plt.plot([x/popul for x in simout[3]], label='R',color = '#2ca02c')\n",
    "plt.plot([x/popul for x in simout[4]], label='V',color = '#ff7f0e')\n",
    "plt.legend(loc='right')\n",
    "\n",
    "s_final = []\n",
    "e_final = []\n",
    "i_final = []\n",
    "r_final = []\n",
    "\n",
    "i_each = []\n",
    "\n",
    "sList = []\n",
    "eList = []\n",
    "iList = []\n",
    "rList = []\n",
    "\n",
    "i_max = []\n",
    "for n in datavector:\n",
    "    sList = [x / popul for x in n[0]]\n",
    "    eList = [x / popul for x in n[1]]\n",
    "    iList = [x / popul for x in n[2]]\n",
    "    rList = [x / popul for x in n[3]]\n",
    " \n",
    "#   plt.plot(sList,color = '#1f77b4')\n",
    "    plt.plot(eList,color = 'yellow')\n",
    "    plt.plot(iList,color = '#d62728')\n",
    "    plt.plot(rList,color = '#2ca02c')\n",
    "#     plt.plot(vList,color = '#ff7f0e')\n",
    "    \n",
    "    s_final.append(n[0][-1])\n",
    "    e_final.append(n[1][-1])\n",
    "    i_final.append(n[2][-1])\n",
    "    r_final.append(n[3][-1])\n",
    "#     v_final.append(n[4][-1])\n",
    "    \n",
    "    i_each.append(iList)\n",
    "    i_max.append(max(iList))\n",
    "\n",
    "plt.axvspan(50, 126, color='gray', alpha=0.5, lw=0)\n",
    "# plt.legend(loc='right')\n",
    "plt.tick_params(axis = 'both', which = 'major', labelsize = 20)\n",
    "plt.ylabel('Population', fontsize=30) \n",
    "plt.xlabel('Time(days)', fontsize=30)\n",
    "x=list(range(Time))\n",
    "plt.xticks(np.arange(min(x), max(x)+20, 50.0))\n",
    "plt.show()\n",
    "# plt.savefig('N=1000.pdf', bbox_inches='tight')"
   ]
  }
 ],
 "metadata": {
  "kernelspec": {
   "display_name": "Python 3",
   "language": "python",
   "name": "python3"
  },
  "language_info": {
   "codemirror_mode": {
    "name": "ipython",
    "version": 3
   },
   "file_extension": ".py",
   "mimetype": "text/x-python",
   "name": "python",
   "nbconvert_exporter": "python",
   "pygments_lexer": "ipython3",
   "version": "3.7.3"
  }
 },
 "nbformat": 4,
 "nbformat_minor": 4
}
